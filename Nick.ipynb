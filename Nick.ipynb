{
 "cells": [
  {
   "cell_type": "markdown",
   "metadata": {},
   "source": [
    "# Lab 4 Neural Networks\n",
    "* Nicholas Larsen\n",
    "* Steven Larsen\n",
    "\n",
    "In this lab we will explore different kinds of Neural Networks starting with a simple 2 layer Perceptron and ending up with a 5 Layer Perceptron with different kinds of preprocessing and 2 different adaptive learning techniques.\n",
    "\n",
    "The dataset description can be found here:https://www.kaggle.com/muonneutrino/us-census-demographic-data/data"
   ]
  },
  {
   "cell_type": "markdown",
   "metadata": {},
   "source": [
    "# Load Split and Balance"
   ]
  },
  {
   "cell_type": "markdown",
   "metadata": {},
   "source": [
    "## Load into Pandas"
   ]
  },
  {
   "cell_type": "code",
   "execution_count": 4,
   "metadata": {},
   "outputs": [
    {
     "data": {
      "text/html": [
       "<div>\n",
       "<style scoped>\n",
       "    .dataframe tbody tr th:only-of-type {\n",
       "        vertical-align: middle;\n",
       "    }\n",
       "\n",
       "    .dataframe tbody tr th {\n",
       "        vertical-align: top;\n",
       "    }\n",
       "\n",
       "    .dataframe thead th {\n",
       "        text-align: right;\n",
       "    }\n",
       "</style>\n",
       "<table border=\"1\" class=\"dataframe\">\n",
       "  <thead>\n",
       "    <tr style=\"text-align: right;\">\n",
       "      <th></th>\n",
       "      <th>TractId</th>\n",
       "      <th>State</th>\n",
       "      <th>County</th>\n",
       "      <th>TotalPop</th>\n",
       "      <th>Men</th>\n",
       "      <th>Women</th>\n",
       "      <th>Hispanic</th>\n",
       "      <th>White</th>\n",
       "      <th>Black</th>\n",
       "      <th>Native</th>\n",
       "      <th>...</th>\n",
       "      <th>Walk</th>\n",
       "      <th>OtherTransp</th>\n",
       "      <th>WorkAtHome</th>\n",
       "      <th>MeanCommute</th>\n",
       "      <th>Employed</th>\n",
       "      <th>PrivateWork</th>\n",
       "      <th>PublicWork</th>\n",
       "      <th>SelfEmployed</th>\n",
       "      <th>FamilyWork</th>\n",
       "      <th>Unemployment</th>\n",
       "    </tr>\n",
       "  </thead>\n",
       "  <tbody>\n",
       "    <tr>\n",
       "      <th>0</th>\n",
       "      <td>1001020100</td>\n",
       "      <td>Alabama</td>\n",
       "      <td>Autauga County</td>\n",
       "      <td>1845</td>\n",
       "      <td>899</td>\n",
       "      <td>946</td>\n",
       "      <td>2.4</td>\n",
       "      <td>86.3</td>\n",
       "      <td>5.2</td>\n",
       "      <td>0.0</td>\n",
       "      <td>...</td>\n",
       "      <td>0.5</td>\n",
       "      <td>0.0</td>\n",
       "      <td>2.1</td>\n",
       "      <td>24.5</td>\n",
       "      <td>881</td>\n",
       "      <td>74.2</td>\n",
       "      <td>21.2</td>\n",
       "      <td>4.5</td>\n",
       "      <td>0.0</td>\n",
       "      <td>4.6</td>\n",
       "    </tr>\n",
       "    <tr>\n",
       "      <th>1</th>\n",
       "      <td>1001020200</td>\n",
       "      <td>Alabama</td>\n",
       "      <td>Autauga County</td>\n",
       "      <td>2172</td>\n",
       "      <td>1167</td>\n",
       "      <td>1005</td>\n",
       "      <td>1.1</td>\n",
       "      <td>41.6</td>\n",
       "      <td>54.5</td>\n",
       "      <td>0.0</td>\n",
       "      <td>...</td>\n",
       "      <td>0.0</td>\n",
       "      <td>0.5</td>\n",
       "      <td>0.0</td>\n",
       "      <td>22.2</td>\n",
       "      <td>852</td>\n",
       "      <td>75.9</td>\n",
       "      <td>15.0</td>\n",
       "      <td>9.0</td>\n",
       "      <td>0.0</td>\n",
       "      <td>3.4</td>\n",
       "    </tr>\n",
       "    <tr>\n",
       "      <th>2</th>\n",
       "      <td>1001020300</td>\n",
       "      <td>Alabama</td>\n",
       "      <td>Autauga County</td>\n",
       "      <td>3385</td>\n",
       "      <td>1533</td>\n",
       "      <td>1852</td>\n",
       "      <td>8.0</td>\n",
       "      <td>61.4</td>\n",
       "      <td>26.5</td>\n",
       "      <td>0.6</td>\n",
       "      <td>...</td>\n",
       "      <td>1.0</td>\n",
       "      <td>0.8</td>\n",
       "      <td>1.5</td>\n",
       "      <td>23.1</td>\n",
       "      <td>1482</td>\n",
       "      <td>73.3</td>\n",
       "      <td>21.1</td>\n",
       "      <td>4.8</td>\n",
       "      <td>0.7</td>\n",
       "      <td>4.7</td>\n",
       "    </tr>\n",
       "    <tr>\n",
       "      <th>3</th>\n",
       "      <td>1001020400</td>\n",
       "      <td>Alabama</td>\n",
       "      <td>Autauga County</td>\n",
       "      <td>4267</td>\n",
       "      <td>2001</td>\n",
       "      <td>2266</td>\n",
       "      <td>9.6</td>\n",
       "      <td>80.3</td>\n",
       "      <td>7.1</td>\n",
       "      <td>0.5</td>\n",
       "      <td>...</td>\n",
       "      <td>1.5</td>\n",
       "      <td>2.9</td>\n",
       "      <td>2.1</td>\n",
       "      <td>25.9</td>\n",
       "      <td>1849</td>\n",
       "      <td>75.8</td>\n",
       "      <td>19.7</td>\n",
       "      <td>4.5</td>\n",
       "      <td>0.0</td>\n",
       "      <td>6.1</td>\n",
       "    </tr>\n",
       "    <tr>\n",
       "      <th>4</th>\n",
       "      <td>1001020500</td>\n",
       "      <td>Alabama</td>\n",
       "      <td>Autauga County</td>\n",
       "      <td>9965</td>\n",
       "      <td>5054</td>\n",
       "      <td>4911</td>\n",
       "      <td>0.9</td>\n",
       "      <td>77.5</td>\n",
       "      <td>16.4</td>\n",
       "      <td>0.0</td>\n",
       "      <td>...</td>\n",
       "      <td>0.8</td>\n",
       "      <td>0.3</td>\n",
       "      <td>0.7</td>\n",
       "      <td>21.0</td>\n",
       "      <td>4787</td>\n",
       "      <td>71.4</td>\n",
       "      <td>24.1</td>\n",
       "      <td>4.5</td>\n",
       "      <td>0.0</td>\n",
       "      <td>2.3</td>\n",
       "    </tr>\n",
       "    <tr>\n",
       "      <th>...</th>\n",
       "      <td>...</td>\n",
       "      <td>...</td>\n",
       "      <td>...</td>\n",
       "      <td>...</td>\n",
       "      <td>...</td>\n",
       "      <td>...</td>\n",
       "      <td>...</td>\n",
       "      <td>...</td>\n",
       "      <td>...</td>\n",
       "      <td>...</td>\n",
       "      <td>...</td>\n",
       "      <td>...</td>\n",
       "      <td>...</td>\n",
       "      <td>...</td>\n",
       "      <td>...</td>\n",
       "      <td>...</td>\n",
       "      <td>...</td>\n",
       "      <td>...</td>\n",
       "      <td>...</td>\n",
       "      <td>...</td>\n",
       "      <td>...</td>\n",
       "    </tr>\n",
       "    <tr>\n",
       "      <th>73996</th>\n",
       "      <td>72153750501</td>\n",
       "      <td>Puerto Rico</td>\n",
       "      <td>Yauco Municipio</td>\n",
       "      <td>6011</td>\n",
       "      <td>3035</td>\n",
       "      <td>2976</td>\n",
       "      <td>99.7</td>\n",
       "      <td>0.3</td>\n",
       "      <td>0.0</td>\n",
       "      <td>0.0</td>\n",
       "      <td>...</td>\n",
       "      <td>0.5</td>\n",
       "      <td>0.0</td>\n",
       "      <td>3.6</td>\n",
       "      <td>26.9</td>\n",
       "      <td>1576</td>\n",
       "      <td>59.2</td>\n",
       "      <td>33.8</td>\n",
       "      <td>7.0</td>\n",
       "      <td>0.0</td>\n",
       "      <td>20.8</td>\n",
       "    </tr>\n",
       "    <tr>\n",
       "      <th>73997</th>\n",
       "      <td>72153750502</td>\n",
       "      <td>Puerto Rico</td>\n",
       "      <td>Yauco Municipio</td>\n",
       "      <td>2342</td>\n",
       "      <td>959</td>\n",
       "      <td>1383</td>\n",
       "      <td>99.1</td>\n",
       "      <td>0.9</td>\n",
       "      <td>0.0</td>\n",
       "      <td>0.0</td>\n",
       "      <td>...</td>\n",
       "      <td>0.0</td>\n",
       "      <td>0.0</td>\n",
       "      <td>1.3</td>\n",
       "      <td>25.3</td>\n",
       "      <td>666</td>\n",
       "      <td>58.4</td>\n",
       "      <td>35.4</td>\n",
       "      <td>6.2</td>\n",
       "      <td>0.0</td>\n",
       "      <td>26.3</td>\n",
       "    </tr>\n",
       "    <tr>\n",
       "      <th>73998</th>\n",
       "      <td>72153750503</td>\n",
       "      <td>Puerto Rico</td>\n",
       "      <td>Yauco Municipio</td>\n",
       "      <td>2218</td>\n",
       "      <td>1001</td>\n",
       "      <td>1217</td>\n",
       "      <td>99.5</td>\n",
       "      <td>0.2</td>\n",
       "      <td>0.0</td>\n",
       "      <td>0.0</td>\n",
       "      <td>...</td>\n",
       "      <td>3.4</td>\n",
       "      <td>0.0</td>\n",
       "      <td>3.4</td>\n",
       "      <td>23.5</td>\n",
       "      <td>560</td>\n",
       "      <td>57.5</td>\n",
       "      <td>34.5</td>\n",
       "      <td>8.0</td>\n",
       "      <td>0.0</td>\n",
       "      <td>23.0</td>\n",
       "    </tr>\n",
       "    <tr>\n",
       "      <th>73999</th>\n",
       "      <td>72153750601</td>\n",
       "      <td>Puerto Rico</td>\n",
       "      <td>Yauco Municipio</td>\n",
       "      <td>4380</td>\n",
       "      <td>1964</td>\n",
       "      <td>2416</td>\n",
       "      <td>100.0</td>\n",
       "      <td>0.0</td>\n",
       "      <td>0.0</td>\n",
       "      <td>0.0</td>\n",
       "      <td>...</td>\n",
       "      <td>0.0</td>\n",
       "      <td>0.0</td>\n",
       "      <td>0.0</td>\n",
       "      <td>24.1</td>\n",
       "      <td>1062</td>\n",
       "      <td>67.7</td>\n",
       "      <td>30.4</td>\n",
       "      <td>1.9</td>\n",
       "      <td>0.0</td>\n",
       "      <td>29.5</td>\n",
       "    </tr>\n",
       "    <tr>\n",
       "      <th>74000</th>\n",
       "      <td>72153750602</td>\n",
       "      <td>Puerto Rico</td>\n",
       "      <td>Yauco Municipio</td>\n",
       "      <td>3001</td>\n",
       "      <td>1343</td>\n",
       "      <td>1658</td>\n",
       "      <td>99.2</td>\n",
       "      <td>0.8</td>\n",
       "      <td>0.0</td>\n",
       "      <td>0.0</td>\n",
       "      <td>...</td>\n",
       "      <td>4.9</td>\n",
       "      <td>0.0</td>\n",
       "      <td>8.9</td>\n",
       "      <td>21.6</td>\n",
       "      <td>759</td>\n",
       "      <td>75.9</td>\n",
       "      <td>19.1</td>\n",
       "      <td>5.0</td>\n",
       "      <td>0.0</td>\n",
       "      <td>17.9</td>\n",
       "    </tr>\n",
       "  </tbody>\n",
       "</table>\n",
       "<p>74001 rows × 37 columns</p>\n",
       "</div>"
      ],
      "text/plain": [
       "           TractId        State           County  TotalPop   Men  Women  \\\n",
       "0       1001020100      Alabama   Autauga County      1845   899    946   \n",
       "1       1001020200      Alabama   Autauga County      2172  1167   1005   \n",
       "2       1001020300      Alabama   Autauga County      3385  1533   1852   \n",
       "3       1001020400      Alabama   Autauga County      4267  2001   2266   \n",
       "4       1001020500      Alabama   Autauga County      9965  5054   4911   \n",
       "...            ...          ...              ...       ...   ...    ...   \n",
       "73996  72153750501  Puerto Rico  Yauco Municipio      6011  3035   2976   \n",
       "73997  72153750502  Puerto Rico  Yauco Municipio      2342   959   1383   \n",
       "73998  72153750503  Puerto Rico  Yauco Municipio      2218  1001   1217   \n",
       "73999  72153750601  Puerto Rico  Yauco Municipio      4380  1964   2416   \n",
       "74000  72153750602  Puerto Rico  Yauco Municipio      3001  1343   1658   \n",
       "\n",
       "       Hispanic  White  Black  Native  ...  Walk  OtherTransp  WorkAtHome  \\\n",
       "0           2.4   86.3    5.2     0.0  ...   0.5          0.0         2.1   \n",
       "1           1.1   41.6   54.5     0.0  ...   0.0          0.5         0.0   \n",
       "2           8.0   61.4   26.5     0.6  ...   1.0          0.8         1.5   \n",
       "3           9.6   80.3    7.1     0.5  ...   1.5          2.9         2.1   \n",
       "4           0.9   77.5   16.4     0.0  ...   0.8          0.3         0.7   \n",
       "...         ...    ...    ...     ...  ...   ...          ...         ...   \n",
       "73996      99.7    0.3    0.0     0.0  ...   0.5          0.0         3.6   \n",
       "73997      99.1    0.9    0.0     0.0  ...   0.0          0.0         1.3   \n",
       "73998      99.5    0.2    0.0     0.0  ...   3.4          0.0         3.4   \n",
       "73999     100.0    0.0    0.0     0.0  ...   0.0          0.0         0.0   \n",
       "74000      99.2    0.8    0.0     0.0  ...   4.9          0.0         8.9   \n",
       "\n",
       "       MeanCommute  Employed  PrivateWork  PublicWork  SelfEmployed  \\\n",
       "0             24.5       881         74.2        21.2           4.5   \n",
       "1             22.2       852         75.9        15.0           9.0   \n",
       "2             23.1      1482         73.3        21.1           4.8   \n",
       "3             25.9      1849         75.8        19.7           4.5   \n",
       "4             21.0      4787         71.4        24.1           4.5   \n",
       "...            ...       ...          ...         ...           ...   \n",
       "73996         26.9      1576         59.2        33.8           7.0   \n",
       "73997         25.3       666         58.4        35.4           6.2   \n",
       "73998         23.5       560         57.5        34.5           8.0   \n",
       "73999         24.1      1062         67.7        30.4           1.9   \n",
       "74000         21.6       759         75.9        19.1           5.0   \n",
       "\n",
       "       FamilyWork  Unemployment  \n",
       "0             0.0           4.6  \n",
       "1             0.0           3.4  \n",
       "2             0.7           4.7  \n",
       "3             0.0           6.1  \n",
       "4             0.0           2.3  \n",
       "...           ...           ...  \n",
       "73996         0.0          20.8  \n",
       "73997         0.0          26.3  \n",
       "73998         0.0          23.0  \n",
       "73999         0.0          29.5  \n",
       "74000         0.0          17.9  \n",
       "\n",
       "[74001 rows x 37 columns]"
      ]
     },
     "execution_count": 4,
     "metadata": {},
     "output_type": "execute_result"
    }
   ],
   "source": [
    "import numpy as np\n",
    "import pandas as pd\n",
    "import missingno as mn\n",
    "\n",
    "df = pd.read_csv('./../acs2017_census_tract_data.csv')\n",
    "df"
   ]
  },
  {
   "cell_type": "code",
   "execution_count": 5,
   "metadata": {},
   "outputs": [
    {
     "data": {
      "text/plain": [
       "<AxesSubplot:>"
      ]
     },
     "execution_count": 5,
     "metadata": {},
     "output_type": "execute_result"
    },
    {
     "data": {
      "image/png": "[encoded data removed]",
      "text/plain": [
       "<Figure size 1800x720 with 2 Axes>"
      ]
     },
     "metadata": {
      "needs_background": "light"
     },
     "output_type": "display_data"
    }
   ],
   "source": [
    "mn.matrix(df)"
   ]
  },
  {
   "cell_type": "markdown",
   "metadata": {},
   "source": [
    "## Balance the data\n",
    "\n",
    "Balaning will take place before the train test split. That way the classes are defined the same for both, if the class lines were defined after the train test split the four class lines may be different"
   ]
  },
  {
   "cell_type": "code",
   "execution_count": 6,
   "metadata": {},
   "outputs": [
    {
     "data": {
      "text/plain": [
       "count    73159.000000\n",
       "mean        16.118186\n",
       "std         12.691045\n",
       "min          0.000000\n",
       "25%          6.900000\n",
       "50%         12.600000\n",
       "75%         21.800000\n",
       "max        100.000000\n",
       "Name: Poverty, dtype: float64"
      ]
     },
     "execution_count": 6,
     "metadata": {},
     "output_type": "execute_result"
    }
   ],
   "source": [
    "df['Poverty'].describe()"
   ]
  },
  {
   "cell_type": "code",
   "execution_count": 24,
   "metadata": {},
   "outputs": [
    {
     "data": {
      "text/plain": [
       "count     73159\n",
       "unique        4\n",
       "top         low\n",
       "freq      18571\n",
       "Name: poverty_class, dtype: object"
      ]
     },
     "execution_count": 24,
     "metadata": {},
     "output_type": "execute_result"
    }
   ],
   "source": [
    "labels = ['low', 'med-low', 'med-high', 'high']\n",
    "df['poverty_class'] = pd.qcut(df['Poverty'],\n",
    "                             q=4,\n",
    "                             labels=labels)\n",
    "df['poverty_class'].describe()"
   ]
  },
  {
   "cell_type": "code",
   "execution_count": 41,
   "metadata": {},
   "outputs": [
    {
     "data": {
      "text/plain": [
       "low         18571\n",
       "high        18254\n",
       "med-high    18232\n",
       "med-low     18102\n",
       "Name: poverty_class, dtype: int64"
      ]
     },
     "execution_count": 41,
     "metadata": {},
     "output_type": "execute_result"
    }
   ],
   "source": [
    "df['poverty_class'].value_counts()"
   ]
  },
  {
   "cell_type": "code",
   "execution_count": 31,
   "metadata": {},
   "outputs": [
    {
     "data": {
      "text/plain": [
       "<AxesSubplot:>"
      ]
     },
     "execution_count": 31,
     "metadata": {},
     "output_type": "execute_result"
    },
    {
     "data": {
      "image/png": "[encoded data removed]",
      "text/plain": [
       "<Figure size 432x288 with 1 Axes>"
      ]
     },
     "metadata": {
      "needs_background": "light"
     },
     "output_type": "display_data"
    }
   ],
   "source": [
    "df['poverty_class'].value_counts().plot(kind='bar')\n",
    "#class_counts = df_class_grouped.count()['poverty_class']\n",
    "#class_counts.plot(kind='bar')"
   ]
  },
  {
   "cell_type": "markdown",
   "metadata": {},
   "source": [
    "## Split the data"
   ]
  },
  {
   "cell_type": "code",
   "execution_count": 40,
   "metadata": {
    "scrolled": false
   },
   "outputs": [
    {
     "name": "stdout",
     "output_type": "stream",
     "text": [
      "Size of X Train 59200\n",
      "Size of X Test 14801\n",
      "Size of y Train 59200\n",
      "Size of y Test 14801\n"
     ]
    },
    {
     "data": {
      "text/plain": [
       "<AxesSubplot:>"
      ]
     },
     "execution_count": 40,
     "metadata": {},
     "output_type": "execute_result"
    },
    {
     "data": {
      "image/png": "[encoded data removed]",
      "text/plain": [
       "<Figure size 1440x360 with 2 Axes>"
      ]
     },
     "metadata": {
      "needs_background": "light"
     },
     "output_type": "display_data"
    }
   ],
   "source": [
    "import numpy as np\n",
    "from sklearn.model_selection import train_test_split\n",
    "import matplotlib.pyplot as plt\n",
    "\n",
    "df_y = df['poverty_class']\n",
    "\n",
    "X_train, X_test, y_train, y_test = \\\n",
    "    train_test_split(df, df_y, test_size=0.2)\n",
    "print('Size of X Train', len(X_train))\n",
    "print('Size of X Test', len(X_test))\n",
    "print('Size of y Train', len(y_train))\n",
    "print('Size of y Test', len(y_test))\n",
    "\n",
    "fig = plt.figure(figsize=(20,5))\n",
    "\n",
    "plt.subplot(1,2,1)\n",
    "X_train['poverty_class'].value_counts().plot(kind='bar')\n",
    "plt.subplot(1,2,2)\n",
    "X_test['poverty_class'].value_counts().plot(kind='bar')"
   ]
  },
  {
   "cell_type": "markdown",
   "metadata": {},
   "source": [
    "# Pre-processing"
   ]
  },
  {
   "cell_type": "markdown",
   "metadata": {},
   "source": [
    "## 2 Layer Perceptron "
   ]
  },
  {
   "cell_type": "markdown",
   "metadata": {},
   "source": [
    "### Graph Loss"
   ]
  },
  {
   "cell_type": "markdown",
   "metadata": {},
   "source": [
    "## 2 Layer Perceptron with Normalize "
   ]
  },
  {
   "cell_type": "markdown",
   "metadata": {},
   "source": [
    "### Graph Loss"
   ]
  },
  {
   "cell_type": "markdown",
   "metadata": {},
   "source": [
    "## 2 Layer Perceptron with One-Hot Encoding and Normalized\n"
   ]
  },
  {
   "cell_type": "markdown",
   "metadata": {},
   "source": [
    "### Graph Loss"
   ]
  },
  {
   "cell_type": "markdown",
   "metadata": {},
   "source": [
    "## Compare Results for 2 Layer Perceptrons"
   ]
  },
  {
   "cell_type": "markdown",
   "metadata": {},
   "source": [
    "# Modeling\n",
    "## 3 Layer\n",
    "## 4 Layer\n",
    "## 5 Layer\n"
   ]
  },
  {
   "cell_type": "markdown",
   "metadata": {},
   "source": [
    "## 5 Layer Adaptive"
   ]
  },
  {
   "cell_type": "markdown",
   "metadata": {},
   "source": [
    "# 5 Layer AdaM"
   ]
  }
 ],
 "metadata": {
  "kernelspec": {
   "display_name": "Python 3",
   "language": "python",
   "name": "python3"
  },
  "language_info": {
   "codemirror_mode": {
    "name": "ipython",
    "version": 3
   },
   "file_extension": ".py",
   "mimetype": "text/x-python",
   "name": "python",
   "nbconvert_exporter": "python",
   "pygments_lexer": "ipython3",
   "version": "3.7.9"
  }
 },
 "nbformat": 4,
 "nbformat_minor": 4
}
